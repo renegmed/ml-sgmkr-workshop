{
 "cells": [
  {
   "cell_type": "code",
   "execution_count": 2,
   "metadata": {},
   "outputs": [],
   "source": [
    "import os\n",
    "import numpy as np\n",
    "import sagemaker\n",
    "from sagemaker.session import s3_input\n",
    "\n",
    "sagemaker_session = sagemaker.Session()\n",
    "role = sagemaker.get_execution_role()"
   ]
  },
  {
   "cell_type": "code",
   "execution_count": 3,
   "metadata": {},
   "outputs": [],
   "source": [
    "hyperparams={'epochs': 2, \n",
    "                'learning-rate': 0.01,\n",
    "                'batch-size': 256,\n",
    "                'weight-decay': 2e-4,\n",
    "                'momentum': 0.9,\n",
    "                'optimizer': 'sgd'}"
   ]
  },
  {
   "cell_type": "code",
   "execution_count": 7,
   "metadata": {},
   "outputs": [],
   "source": [
    "from sagemaker.tensorflow import TensorFlow\n",
    "\n",
    "output_path = 's3://renegmed-sagemaker-container-webinar/'\n",
    "tf_estimator = TensorFlow(entry_point='cifar10-training-script-sagemaker.py',\n",
    "                         source_dir='code',\n",
    "                         role=role,\n",
    "                         train_instance_count=1,\n",
    "                         train_instance_type='local_gpu',\n",
    "                         framework_version='1.13',\n",
    "                         py_version='py3',\n",
    "                         script_mode=True,\n",
    "                         output_path=output_path,\n",
    "                         hyperparameters=hyperparams)"
   ]
  },
  {
   "cell_type": "code",
   "execution_count": null,
   "metadata": {},
   "outputs": [],
   "source": [
    "%%time\n",
    "train_path = 's3://renegmed-sagemaker-container-webinar/cifar10-dataset/train'\n",
    "val_path = 's3://renegmed-sagemaker-container-webinar/cifar10-dataset/validation'\n",
    "eval_path = 's3://renegmed-sagemaker-container-webinar/cifar10-dataset/eval'\n",
    "\n",
    "tf_estimator.fit({'training': train_path, 'validation': val_path, 'eval': eval_path})"
   ]
  }
 ],
 "metadata": {
  "kernelspec": {
   "display_name": "conda_tensorflow_p36",
   "language": "python",
   "name": "conda_tensorflow_p36"
  },
  "language_info": {
   "codemirror_mode": {
    "name": "ipython",
    "version": 3
   },
   "file_extension": ".py",
   "mimetype": "text/x-python",
   "name": "python",
   "nbconvert_exporter": "python",
   "pygments_lexer": "ipython3",
   "version": "3.6.5"
  }
 },
 "nbformat": 4,
 "nbformat_minor": 4
}
